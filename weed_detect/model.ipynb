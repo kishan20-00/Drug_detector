{
 "cells": [
  {
   "cell_type": "code",
   "execution_count": 1,
   "metadata": {},
   "outputs": [],
   "source": [
    "import os\n",
    "import pandas as pd\n",
    "import numpy as np\n",
    "import tensorflow as tf\n",
    "from tensorflow.keras.preprocessing.image import ImageDataGenerator\n",
    "from sklearn.model_selection import train_test_split\n",
    "from sklearn.preprocessing import LabelEncoder\n",
    "from tensorflow.keras.utils import to_categorical\n",
    "import cv2"
   ]
  },
  {
   "cell_type": "code",
   "execution_count": 2,
   "metadata": {},
   "outputs": [
    {
     "name": "stdout",
     "output_type": "stream",
     "text": [
      "                Filename  Label       Species\n",
      "0  20160928-140314-0.jpg      0  Chinee apple\n",
      "1  20160928-140337-0.jpg      0  Chinee apple\n",
      "2  20160928-140731-0.jpg      0  Chinee apple\n",
      "3  20160928-140747-0.jpg      0  Chinee apple\n",
      "4  20160928-141107-0.jpg      0  Chinee apple\n"
     ]
    }
   ],
   "source": [
    "# Load the Excel dataset\n",
    "excel_file = 'labels.csv'  # Path to your Excel file\n",
    "df = pd.read_csv(excel_file)\n",
    "\n",
    "# Preview dataset\n",
    "print(df.head())"
   ]
  },
  {
   "cell_type": "code",
   "execution_count": 3,
   "metadata": {},
   "outputs": [],
   "source": [
    "# Set the image folder path and target image size\n",
    "image_folder = 'images/'  # Folder containing images\n",
    "image_size = (128, 128)  # Resize all images to 128x128"
   ]
  },
  {
   "cell_type": "code",
   "execution_count": 4,
   "metadata": {},
   "outputs": [],
   "source": [
    "# Function to load and preprocess images\n",
    "def load_and_preprocess_images(image_folder, filenames, image_size):\n",
    "    images = []\n",
    "    for filename in filenames:\n",
    "        image_path = os.path.join(image_folder, filename)\n",
    "        image = cv2.imread(image_path)\n",
    "        if image is not None:\n",
    "            image = cv2.resize(image, image_size)  # Resize image\n",
    "            images.append(image)\n",
    "        else:\n",
    "            print(f\"Image not found: {filename}\")\n",
    "    return np.array(images)"
   ]
  },
  {
   "cell_type": "code",
   "execution_count": 5,
   "metadata": {},
   "outputs": [],
   "source": [
    "# Load images using filenames from Excel file\n",
    "images = load_and_preprocess_images(image_folder, df['Filename'], image_size)"
   ]
  },
  {
   "cell_type": "code",
   "execution_count": 6,
   "metadata": {},
   "outputs": [],
   "source": [
    "# Encode the labels (weed varieties)\n",
    "le = LabelEncoder()\n",
    "labels = le.fit_transform(df['Species'])\n",
    "labels = to_categorical(labels)  # Convert to one-hot encoding\n",
    "\n",
    "# Split dataset into training and testing sets (80% train, 20% test)\n",
    "X_train, X_test, y_train, y_test = train_test_split(images, labels, test_size=0.2, random_state=42)"
   ]
  },
  {
   "cell_type": "code",
   "execution_count": 7,
   "metadata": {},
   "outputs": [],
   "source": [
    "# Normalize pixel values to [0, 1] range\n",
    "X_train = X_train / 255.0\n",
    "X_test = X_test / 255.0\n",
    "\n",
    "# CNN model definition\n",
    "def create_model(input_shape):\n",
    "    model = tf.keras.models.Sequential([\n",
    "        tf.keras.layers.Conv2D(32, (3, 3), activation='relu', input_shape=input_shape),\n",
    "        tf.keras.layers.MaxPooling2D(pool_size=(2, 2)),\n",
    "        tf.keras.layers.Conv2D(64, (3, 3), activation='relu'),\n",
    "        tf.keras.layers.MaxPooling2D(pool_size=(2, 2)),\n",
    "        tf.keras.layers.Conv2D(128, (3, 3), activation='relu'),\n",
    "        tf.keras.layers.MaxPooling2D(pool_size=(2, 2)),\n",
    "        tf.keras.layers.Flatten(),\n",
    "        tf.keras.layers.Dense(128, activation='relu'),\n",
    "        tf.keras.layers.Dense(len(le.classes_), activation='softmax')  # Output layer\n",
    "    ])\n",
    "    model.compile(optimizer='adam', loss='categorical_crossentropy', metrics=['accuracy'])\n",
    "    return model"
   ]
  },
  {
   "cell_type": "code",
   "execution_count": 13,
   "metadata": {},
   "outputs": [
    {
     "name": "stderr",
     "output_type": "stream",
     "text": [
      "c:\\Users\\Kishan raj\\AppData\\Local\\Programs\\Python\\Python311\\Lib\\site-packages\\keras\\src\\layers\\convolutional\\base_conv.py:107: UserWarning: Do not pass an `input_shape`/`input_dim` argument to a layer. When using Sequential models, prefer using an `Input(shape)` object as the first layer in the model instead.\n",
      "  super().__init__(activity_regularizer=activity_regularizer, **kwargs)\n"
     ]
    },
    {
     "name": "stdout",
     "output_type": "stream",
     "text": [
      "Epoch 1/15\n",
      "\u001b[1m95/95\u001b[0m \u001b[32m━━━━━━━━━━━━━━━━━━━━\u001b[0m\u001b[37m\u001b[0m \u001b[1m65s\u001b[0m 525ms/step - accuracy: 0.2006 - loss: 1.9864 - val_accuracy: 0.4101 - val_loss: 1.4904\n",
      "Epoch 2/15\n",
      "\u001b[1m95/95\u001b[0m \u001b[32m━━━━━━━━━━━━━━━━━━━━\u001b[0m\u001b[37m\u001b[0m \u001b[1m52s\u001b[0m 542ms/step - accuracy: 0.4201 - loss: 1.4957 - val_accuracy: 0.4636 - val_loss: 1.3685\n",
      "Epoch 3/15\n",
      "\u001b[1m95/95\u001b[0m \u001b[32m━━━━━━━━━━━━━━━━━━━━\u001b[0m\u001b[37m\u001b[0m \u001b[1m49s\u001b[0m 518ms/step - accuracy: 0.5036 - loss: 1.3094 - val_accuracy: 0.4889 - val_loss: 1.2730\n",
      "Epoch 4/15\n",
      "\u001b[1m95/95\u001b[0m \u001b[32m━━━━━━━━━━━━━━━━━━━━\u001b[0m\u001b[37m\u001b[0m \u001b[1m46s\u001b[0m 482ms/step - accuracy: 0.5419 - loss: 1.2319 - val_accuracy: 0.4903 - val_loss: 1.3146\n",
      "Epoch 5/15\n",
      "\u001b[1m95/95\u001b[0m \u001b[32m━━━━━━━━━━━━━━━━━━━━\u001b[0m\u001b[37m\u001b[0m \u001b[1m45s\u001b[0m 470ms/step - accuracy: 0.5918 - loss: 1.0896 - val_accuracy: 0.5171 - val_loss: 1.2390\n",
      "Epoch 6/15\n",
      "\u001b[1m95/95\u001b[0m \u001b[32m━━━━━━━━━━━━━━━━━━━━\u001b[0m\u001b[37m\u001b[0m \u001b[1m44s\u001b[0m 459ms/step - accuracy: 0.6631 - loss: 0.9425 - val_accuracy: 0.5438 - val_loss: 1.1460\n",
      "Epoch 7/15\n",
      "\u001b[1m95/95\u001b[0m \u001b[32m━━━━━━━━━━━━━━━━━━━━\u001b[0m\u001b[37m\u001b[0m \u001b[1m51s\u001b[0m 533ms/step - accuracy: 0.7131 - loss: 0.7890 - val_accuracy: 0.5483 - val_loss: 1.1791\n",
      "Epoch 8/15\n",
      "\u001b[1m95/95\u001b[0m \u001b[32m━━━━━━━━━━━━━━━━━━━━\u001b[0m\u001b[37m\u001b[0m \u001b[1m46s\u001b[0m 487ms/step - accuracy: 0.7990 - loss: 0.6067 - val_accuracy: 0.5572 - val_loss: 1.3136\n",
      "Epoch 9/15\n",
      "\u001b[1m95/95\u001b[0m \u001b[32m━━━━━━━━━━━━━━━━━━━━\u001b[0m\u001b[37m\u001b[0m \u001b[1m47s\u001b[0m 493ms/step - accuracy: 0.8399 - loss: 0.4949 - val_accuracy: 0.5661 - val_loss: 1.3400\n",
      "Epoch 10/15\n",
      "\u001b[1m95/95\u001b[0m \u001b[32m━━━━━━━━━━━━━━━━━━━━\u001b[0m\u001b[37m\u001b[0m \u001b[1m53s\u001b[0m 558ms/step - accuracy: 0.9019 - loss: 0.3134 - val_accuracy: 0.5676 - val_loss: 1.5253\n",
      "Epoch 11/15\n",
      "\u001b[1m95/95\u001b[0m \u001b[32m━━━━━━━━━━━━━━━━━━━━\u001b[0m\u001b[37m\u001b[0m \u001b[1m48s\u001b[0m 504ms/step - accuracy: 0.9436 - loss: 0.2021 - val_accuracy: 0.5542 - val_loss: 1.9000\n",
      "Epoch 12/15\n",
      "\u001b[1m95/95\u001b[0m \u001b[32m━━━━━━━━━━━━━━━━━━━━\u001b[0m\u001b[37m\u001b[0m \u001b[1m45s\u001b[0m 469ms/step - accuracy: 0.9674 - loss: 0.1184 - val_accuracy: 0.5617 - val_loss: 1.9356\n",
      "Epoch 13/15\n",
      "\u001b[1m95/95\u001b[0m \u001b[32m━━━━━━━━━━━━━━━━━━━━\u001b[0m\u001b[37m\u001b[0m \u001b[1m44s\u001b[0m 459ms/step - accuracy: 0.9839 - loss: 0.0649 - val_accuracy: 0.5275 - val_loss: 2.2390\n",
      "Epoch 14/15\n",
      "\u001b[1m95/95\u001b[0m \u001b[32m━━━━━━━━━━━━━━━━━━━━\u001b[0m\u001b[37m\u001b[0m \u001b[1m48s\u001b[0m 507ms/step - accuracy: 0.9900 - loss: 0.0473 - val_accuracy: 0.5364 - val_loss: 2.3660\n",
      "Epoch 15/15\n",
      "\u001b[1m95/95\u001b[0m \u001b[32m━━━━━━━━━━━━━━━━━━━━\u001b[0m\u001b[37m\u001b[0m \u001b[1m46s\u001b[0m 480ms/step - accuracy: 0.9948 - loss: 0.0310 - val_accuracy: 0.5215 - val_loss: 2.8013\n"
     ]
    }
   ],
   "source": [
    "# Create the CNN model\n",
    "input_shape = (image_size[0], image_size[1], 3)  # 3 channels for RGB\n",
    "model = create_model(input_shape)\n",
    "\n",
    "# Train the model\n",
    "batch_size = 64\n",
    "epochs = 15\n",
    "history = model.fit(X_train, y_train, epochs=epochs, batch_size=batch_size, validation_split=0.1)"
   ]
  },
  {
   "cell_type": "code",
   "execution_count": 15,
   "metadata": {},
   "outputs": [
    {
     "name": "stderr",
     "output_type": "stream",
     "text": [
      "WARNING:absl:You are saving your model as an HDF5 file via `model.save()` or `keras.saving.save_model(model)`. This file format is considered legacy. We recommend using instead the native Keras format, e.g. `model.save('my_model.keras')` or `keras.saving.save_model(model, 'my_model.keras')`. \n"
     ]
    }
   ],
   "source": [
    "# Save the model\n",
    "model.save('weed_classification_model.h5')"
   ]
  },
  {
   "cell_type": "code",
   "execution_count": 16,
   "metadata": {},
   "outputs": [
    {
     "name": "stdout",
     "output_type": "stream",
     "text": [
      "\u001b[1m1/1\u001b[0m \u001b[32m━━━━━━━━━━━━━━━━━━━━\u001b[0m\u001b[37m\u001b[0m \u001b[1m0s\u001b[0m 215ms/step\n",
      "Predicted weed variety: Chinee apple\n"
     ]
    }
   ],
   "source": [
    "# Predict on a test image (example)\n",
    "sample_image = \"images/20170711-115741-0.jpg\"\n",
    "sample_image = X_test[0].reshape(1, image_size[0], image_size[1], 3)\n",
    "prediction = model.predict(sample_image)\n",
    "predicted_class = le.inverse_transform([np.argmax(prediction)])\n",
    "print(f\"Predicted weed variety: {predicted_class[0]}\")"
   ]
  },
  {
   "cell_type": "code",
   "execution_count": 17,
   "metadata": {},
   "outputs": [],
   "source": [
    "import json\n",
    "\n",
    "# Save the class labels (weed species) to a JSON file\n",
    "class_labels = list(le.classes_)  # List of species names\n",
    "with open('class_labels.json', 'w') as f:\n",
    "    json.dump(class_labels, f)"
   ]
  }
 ],
 "metadata": {
  "kernelspec": {
   "display_name": "weed_detect",
   "language": "python",
   "name": "python3"
  },
  "language_info": {
   "codemirror_mode": {
    "name": "ipython",
    "version": 3
   },
   "file_extension": ".py",
   "mimetype": "text/x-python",
   "name": "python",
   "nbconvert_exporter": "python",
   "pygments_lexer": "ipython3",
   "version": "3.11.0"
  }
 },
 "nbformat": 4,
 "nbformat_minor": 2
}
